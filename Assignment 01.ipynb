{
 "cells": [
  {
   "cell_type": "markdown",
   "id": "d7150676",
   "metadata": {},
   "source": [
    "# Name : Maaz Ahmed\n"
   ]
  },
  {
   "cell_type": "markdown",
   "id": "9ac591e2",
   "metadata": {},
   "source": [
    "# Question 01\n",
    "Exercise 1: Given two integer numbers return their product. If the product is greater than\n",
    "1000, then return their sum"
   ]
  },
  {
   "cell_type": "code",
   "execution_count": 13,
   "id": "e115a148",
   "metadata": {},
   "outputs": [
    {
     "name": "stdout",
     "output_type": "stream",
     "text": [
      "Enter 1st number10\n",
      "Enter 2nd number1000\n",
      "1st Number is  10\n",
      "2nd Number is  1000\n",
      "Product  10000\n",
      "If the product is greater than 1000,then the sum is  1010\n"
     ]
    }
   ],
   "source": [
    "# Variables\n",
    "Num_List = []\n",
    "Num_Sum = 0\n",
    "# Input\n",
    "Num_List.append(int(input('Enter 1st number')))\n",
    "Num_List.append(int(input('Enter 2nd number')))\n",
    "\n",
    "# Product\n",
    "Num_Product = Num_List[0]*Num_List[1]\n",
    "\n",
    "# Print\n",
    "print('1st Number is ',Num_List[0])\n",
    "print('2nd Number is ',Num_List[1])\n",
    "print('Product ',Num_Product)\n",
    "\n",
    "# Condition\n",
    "if Num_Product >= 1000:\n",
    "    Num_Sum = Num_List[0]+Num_List[1]\n",
    "    print('If the product is greater than 1000,then the sum is ',Num_Sum)\n",
    "else:\n",
    "    pass\n",
    "\n",
    "\n",
    "    "
   ]
  },
  {
   "cell_type": "markdown",
   "id": "9bd0fd35",
   "metadata": {},
   "source": [
    "# Question 02\n",
    "Exercise 2: Given a range of the first 10 numbers, Iterate from the start number to the end\n",
    "number, and In each iteration print the sum of the current number and previous number"
   ]
  },
  {
   "cell_type": "code",
   "execution_count": 25,
   "id": "eabb2906",
   "metadata": {},
   "outputs": [
    {
     "name": "stdout",
     "output_type": "stream",
     "text": [
      "1\n",
      "3\n",
      "5\n",
      "7\n",
      "9\n",
      "11\n",
      "13\n",
      "15\n",
      "17\n",
      "19\n"
     ]
    }
   ],
   "source": [
    "# Variables\n",
    "Data_List = [1,2,3,4,5,6,7,8,9,10]\n",
    "\n",
    "# Condition\n",
    "for i in range(len(Data_List)):\n",
    "    if i >= 1:\n",
    "        print(Data_List[i]+Data_List[i-1])\n",
    "    else:\n",
    "        pass\n",
    "        print(Data_List[i])\n",
    "    "
   ]
  },
  {
   "cell_type": "markdown",
   "id": "33132718",
   "metadata": {},
   "source": [
    "# Question 03\n",
    "Exercise 3: Given a string, display only those characters which are present at an even\n",
    "index number."
   ]
  },
  {
   "cell_type": "code",
   "execution_count": 44,
   "id": "d19e4bcf",
   "metadata": {},
   "outputs": [
    {
     "name": "stdout",
     "output_type": "stream",
     "text": [
      "Enter a string 012345\n",
      "0\n",
      "2\n",
      "4\n"
     ]
    }
   ],
   "source": [
    "# Input\n",
    "Data_str = input('Enter a string ')\n",
    "\n",
    "# Condition\n",
    "for i in range(len(Data_str)):\n",
    "    if((i%2)==0):\n",
    "        print(Data_str[i])\n",
    "    else:\n",
    "        pass"
   ]
  },
  {
   "cell_type": "markdown",
   "id": "6dc98d2f",
   "metadata": {},
   "source": [
    "# Question 04\n",
    "Exercise 4: Given a list of numbers, Iterate it and print only those numbers which are\n",
    "divisible of 5"
   ]
  },
  {
   "cell_type": "code",
   "execution_count": 43,
   "id": "d6527222",
   "metadata": {},
   "outputs": [
    {
     "name": "stdout",
     "output_type": "stream",
     "text": [
      "25\n",
      "5\n",
      "10\n"
     ]
    }
   ],
   "source": [
    "# Variables\n",
    "Data_List = [1,25,3,4,5,6,7,8,9,10]\n",
    "\n",
    "# Condition\n",
    "for i in range(len(Data_List)):\n",
    "    if((Data_List[i]%5)==0):\n",
    "        print(Data_List[i])\n",
    "    else:\n",
    "        pass"
   ]
  },
  {
   "cell_type": "markdown",
   "id": "ed976c85",
   "metadata": {},
   "source": [
    "# Question 05\n",
    "Exercise 5: Return the count of sub-string “Emma” appears in the given string\n",
    "str = \"Emma is good developer. Emma is a writer\""
   ]
  },
  {
   "cell_type": "code",
   "execution_count": 64,
   "id": "3184b9df",
   "metadata": {},
   "outputs": [
    {
     "name": "stdout",
     "output_type": "stream",
     "text": [
      "2\n"
     ]
    }
   ],
   "source": [
    "# Variables\n",
    "String_1 = 'Emma'\n",
    "Sub_Str = 'Emma is good developer. Emma is a writer'\n",
    "Split_Str = Sub_Str.split()\n",
    "Counter = 0\n",
    "\n",
    "# Condition\n",
    "for i in Split_Str:\n",
    "    if i == 'Emma':\n",
    "        Counter = Counter + 1\n",
    "    else:\n",
    "        pass\n",
    "\n",
    "# Print\n",
    "print(Counter)\n"
   ]
  },
  {
   "cell_type": "markdown",
   "id": "b946be99",
   "metadata": {},
   "source": [
    "# Question 06\n",
    "Exercise 6: Given a two list of numbers create a new list such that new list should\n",
    "contain only odd numbers from the first list and even numbers from the second list"
   ]
  },
  {
   "cell_type": "code",
   "execution_count": 65,
   "id": "aff995a9",
   "metadata": {},
   "outputs": [
    {
     "name": "stdout",
     "output_type": "stream",
     "text": [
      "[2, 9, 4, 7, 6, 5, 8, 3, 10, 1]\n"
     ]
    }
   ],
   "source": [
    "# Variables\n",
    "List_1 = [1,2,3,4,5,6,7,8,9,10]\n",
    "List_2 = [10,9,8,7,6,5,4,3,2,1]\n",
    "List_3 = []\n",
    "\n",
    "# Condition\n",
    "for i in range(len(List_1)):\n",
    "    if (List_1[i]%2)==0:\n",
    "        List_3.append(List_1[i])\n",
    "    else:\n",
    "        pass\n",
    "    if (List_2[i]%2)!=0:\n",
    "        List_3.append(List_2[i])\n",
    "    else:\n",
    "        pass\n",
    "\n",
    "# Print\n",
    "print(List_3)\n"
   ]
  }
 ],
 "metadata": {
  "kernelspec": {
   "display_name": "Python 3",
   "language": "python",
   "name": "python3"
  },
  "language_info": {
   "codemirror_mode": {
    "name": "ipython",
    "version": 3
   },
   "file_extension": ".py",
   "mimetype": "text/x-python",
   "name": "python",
   "nbconvert_exporter": "python",
   "pygments_lexer": "ipython3",
   "version": "3.8.8"
  }
 },
 "nbformat": 4,
 "nbformat_minor": 5
}
